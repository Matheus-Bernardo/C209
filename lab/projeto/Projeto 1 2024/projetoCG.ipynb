{
  "cells": [
    {
      "cell_type": "code",
      "execution_count": 2,
      "metadata": {},
      "outputs": [],
      "source": [
        "#Nome: Matheus Henrique Lourenço Bernardo\n",
        "#Matricula 75"
      ]
    },
    {
      "cell_type": "code",
      "execution_count": 3,
      "metadata": {
        "colab": {
          "base_uri": "https://localhost:8080/",
          "height": 332
        },
        "id": "wpyG0CuF03ZJ",
        "outputId": "548360b4-3b07-42c4-b54f-d2b82cefdbf0"
      },
      "outputs": [],
      "source": [
        "from PIL import Image, ImageOps, ImageFilter\n",
        "import matplotlib.pyplot as plt\n",
        "\n",
        "# Carregar as imagens fornecidas\n",
        "img1 = Image.open('P1.png')\n",
        "img2 = Image.open('P2.png')\n",
        "img3 = Image.open('P3.jpg')\n",
        "img4 = Image.open('P4.png')"
      ]
    },
    {
      "cell_type": "code",
      "execution_count": 4,
      "metadata": {
        "id": "Pg_dDdcH05gV"
      },
      "outputs": [],
      "source": [
        "# Passo 1: Juntar as imagens em uma única imagem\n",
        "images = [img1, img2, img3, img4]\n",
        "widths, heights = zip(*(i.size for i in images))\n",
        "total_width = sum(widths)\n",
        "max_height = max(heights)\n",
        "\n",
        "# Criar uma nova imagem com o tamanho combinado\n",
        "new_img = Image.new('RGB', (total_width, max_height))\n",
        "\n",
        "x_offset = 0\n",
        "for img in images:\n",
        "    new_img.paste(img, (x_offset, 0))\n",
        "    x_offset += img.size[0]\n",
        "\n",
        "# Salvar a imagem combinada\n",
        "new_img.save('todosPinguins.png')"
      ]
    },
    {
      "cell_type": "code",
      "execution_count": 5,
      "metadata": {
        "id": "rlbEjPRD08nA"
      },
      "outputs": [],
      "source": [
        "# Passo 2: Trocar as cores (modificando os pinguins para uma cor diferente)\n",
        "# Aplicando um filtro de cor\n",
        "colored_img = new_img.convert('L')  # Converter para escala de cinza\n",
        "colored_img = ImageOps.colorize(colored_img, black=\"blue\", white=\"yellow\")\n",
        "\n",
        "# Salvar a imagem com cores modificadas\n",
        "colored_img.save('PinguinsDeUmaCor.png')"
      ]
    },
    {
      "cell_type": "code",
      "execution_count": 6,
      "metadata": {
        "id": "twB8qxSX09td"
      },
      "outputs": [],
      "source": [
        "# Passo 3: Aplicar espelhamento\n",
        "mirrored_img = ImageOps.mirror(colored_img)\n",
        "mirrored_img.save('imagemEspelhada.png')"
      ]
    },
    {
      "cell_type": "code",
      "execution_count": 7,
      "metadata": {
        "id": "qTfDyw861Dvi"
      },
      "outputs": [],
      "source": [
        "# Passo 4: Recortar o pinguim favorito\n",
        "# definir as coordenadas adequadas manualmente após observar a imagem\n",
        "# Essas coordenadas dependem da posição do pinguim alvo na imagem final espelhada\n",
        "\n",
        "# Exemplo de coordenadas ajustadas para um recorte central do pinguim\n",
        "width, height = mirrored_img.size\n",
        "left = int(width * 0.25)  # Recortar a partir de 25% da largura\n",
        "top = int(height * 0.2)   # Recortar a partir de 20% da altura\n",
        "right = int(width * 0.75) # Termina o recorte em 75% da largura\n",
        "bottom = int(height * 0.8) # Termina o recorte em 80% da altura\n",
        "\n",
        "# Aplicar o recorte\n",
        "cropped_img = mirrored_img.crop((left, top, right, bottom))\n",
        "\n",
        "# Salvar a imagem recortada\n",
        "cropped_img.save('pinguinEscolhido.png')\n"
      ]
    },
    {
      "cell_type": "code",
      "execution_count": 8,
      "metadata": {
        "id": "6-nqbCzA1IA2"
      },
      "outputs": [],
      "source": [
        "# Passo 5: Analisar histograma e aplicar threshold\n",
        "histogram = cropped_img.histogram()"
      ]
    },
    {
      "cell_type": "code",
      "execution_count": 9,
      "metadata": {
        "id": "jBSCrTQ91Iwm"
      },
      "outputs": [
        {
          "data": {
            "image/png": "[encoded data removed]",
            "text/plain": [
              "<Figure size 640x480 with 1 Axes>"
            ]
          },
          "metadata": {},
          "output_type": "display_data"
        }
      ],
      "source": [
        "# Exibir histograma\n",
        "plt.hist(histogram, bins=256, range=(0, 256))\n",
        "plt.show()"
      ]
    },
    {
      "cell_type": "code",
      "execution_count": 10,
      "metadata": {
        "id": "oquHlFYa1M3B"
      },
      "outputs": [],
      "source": [
        "# Aplicar threshold\n",
        "threshold_value = 128\n",
        "thresholded_img = cropped_img.point(lambda p: p > threshold_value and 255)\n",
        "thresholded_img.save('thresholded_image.png')"
      ]
    }
  ],
  "metadata": {
    "colab": {
      "provenance": []
    },
    "kernelspec": {
      "display_name": "Python 3",
      "name": "python3"
    },
    "language_info": {
      "codemirror_mode": {
        "name": "ipython",
        "version": 3
      },
      "file_extension": ".py",
      "mimetype": "text/x-python",
      "name": "python",
      "nbconvert_exporter": "python",
      "pygments_lexer": "ipython3",
      "version": "3.11.3"
    }
  },
  "nbformat": 4,
  "nbformat_minor": 0
}
