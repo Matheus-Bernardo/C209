{
 "cells": [
  {
   "cell_type": "markdown",
   "metadata": {},
   "source": [
    "# Aula 2 - Introdução ao Python"
   ]
  },
  {
   "cell_type": "markdown",
   "metadata": {},
   "source": [
    "## Sobre o Python\n",
    "* Linguagem de programação de alto nível, propósito geral, interpretada, imperativa, orientada a objetos, funcional, com tipagem forte e dinâmica;\n",
    "* Criada por Guido van Rossum em 1991;\n",
    "* Modelo de desenvolvimento open-source;\n",
    "* Gerenciada pela organização sem fins lucrativos Python Software Foundation;\n",
    "* Altamente utilizada para scripts, machine learning, processamento de imagens, web, computação científica, dentre outros;\n",
    "* Usada na Wikipedia, Google, Yahoo!, NASA, Facebook, Amazon, Instagram, Spotify, Reddit etc.\n",
    "\n",
    "A filosofia do Python é enfatizar a importância do esforço do programador sobre o esforço computacional, dando ênfase à legibilidade do código sobre a velocidade.\n",
    "\n",
    "Foi criada com base na linguagem ABC, possuindo sintaxe influencidada pelo C, além de compreensão de listas, funções anônimas e função map inspiradas do Haskell. Os iteradores são baseados na Icon, tratamento de exceção e módulos da Modula-3 e expressões regulares de Perl."
   ]
  },
  {
   "cell_type": "markdown",
   "metadata": {},
   "source": [
    "## Declarando variáveis\n",
    "\n",
    "Para declarar variáveis no Python, basta utilizar a sintaxe\n",
    "```python\n",
    "nome = valor```\n",
    "\n",
    "Alguns exemplos:"
   ]
  },
  {
   "cell_type": "code",
   "execution_count": 3,
   "metadata": {},
   "outputs": [],
   "source": [
    "# inteiros:\n",
    "idade = 21\n",
    "\n",
    "# pontos flutuantes:\n",
    "altura = 1.65\n",
    "\n",
    "# strings:\n",
    "nome = \"maria antonieta\"\n",
    "\n",
    "# booleanos:\n",
    "gosta_de_python = True"
   ]
  },
  {
   "cell_type": "markdown",
   "metadata": {},
   "source": [
    "## Funções úteis\n",
    "\n",
    "Dentre algumas funções, podemos destacar:\n",
    "```python\n",
    "input(\"mensagem opcional de entrada\") # lê do stdin\n",
    "print(valor) # escreve no stdout\n",
    "int(minha_string) # transforma a string em inteiro\n",
    "float(minha_string) # transforma a string em ponto flutuante```"
   ]
  },
  {
   "cell_type": "code",
   "execution_count": 4,
   "metadata": {},
   "outputs": [
    {
     "name": "stdout",
     "output_type": "stream",
     "text": [
      "21\n",
      "1.65\n",
      "maria antonieta\n",
      "True\n",
      "Olá matheus\n",
      "Sua idade é 22\n"
     ]
    }
   ],
   "source": [
    "# Printando valores:\n",
    "print(idade)\n",
    "print(altura)\n",
    "print(nome)\n",
    "print(gosta_de_python)\n",
    "\n",
    "# Lendo valores:\n",
    "meu_nome = input(\"Entre com seu nome:\")\n",
    "\n",
    "# '+' concatena duas strings:\n",
    "print(\"Olá \" + meu_nome)\n",
    "\n",
    "\n",
    "# Podemos usar 'aspas simples' ou \"aspas duplas\" para strings:\n",
    "minha_idade = (input('Entre com sua idade:'))\n",
    "\n",
    "# Também podemos usar o próprio print para concatenar:\n",
    "print('Sua idade é', minha_idade)"
   ]
  },
  {
   "cell_type": "markdown",
   "metadata": {},
   "source": [
    "Caso um cast não seja válido, o Python lançará um `ValueException`:\n",
    "![ValueException](int_exception.png)"
   ]
  },
  {
   "cell_type": "markdown",
   "metadata": {},
   "source": [
    "## Operadores aritméticos:\n",
    "\n",
    "O Python oferece vários operadores que estamos familiarizados, tais como:\n",
    "```python\n",
    "soma = x + y\n",
    "subtracao = x - y\n",
    "multiplicacao = x * y\n",
    "divisao = x / y\n",
    "divisao_truncada = x // y # arredonda para baixo\n",
    "exponenciacao = x ** y # x elevado a y\n",
    "resto_divisao = x % y```"
   ]
  },
  {
   "cell_type": "code",
   "execution_count": 6,
   "metadata": {},
   "outputs": [
    {
     "name": "stdout",
     "output_type": "stream",
     "text": [
      "\n",
      "Soma: 22.0\n",
      "Subtração: -2.0\n",
      "Multiplicação: 120.0\n",
      "Divisão: 0.8333333333333334\n",
      "Divisão Truncada: 0.0\n",
      "Exponenciação: 1000000000000.0\n",
      "Resto da Divisão: 10.0\n"
     ]
    }
   ],
   "source": [
    "x = float(input(\"Entre com x: \"))\n",
    "y = float(input(\"Entre com y: \"))\n",
    "\n",
    "soma = x + y\n",
    "subtracao = x - y\n",
    "multiplicacao = x * y\n",
    "divisao = x / y\n",
    "divisao_truncada = x // y \n",
    "exponenciacao = x ** y\n",
    "resto_divisao = x % y\n",
    "\n",
    "print()\n",
    "\n",
    "print(\"Soma:\", soma)\n",
    "print(\"Subtração:\", subtracao)\n",
    "print(\"Multiplicação:\", multiplicacao)\n",
    "print(\"Divisão:\", divisao)\n",
    "print(\"Divisão Truncada:\", divisao_truncada)\n",
    "print(\"Exponenciação:\", exponenciacao)\n",
    "print(\"Resto da Divisão:\", resto_divisao)"
   ]
  },
  {
   "cell_type": "markdown",
   "metadata": {},
   "source": [
    "## Estruturas de decisão e operadores de comparação e lógicos\n",
    "\n",
    "![Um pouco de humor](if_else.gif)\n",
    "\n",
    "Estruturas de decisão são recursos da linguagem que permitem ao programador fazer determinadas ações de acordo com um predicado. Elas têm a seguinte sintaxe:\n",
    "```python\n",
    "if (condicao1):\n",
    "    comandos\n",
    "elif condicao2:\n",
    "    comandos\n",
    "elif condicao3:\n",
    "    comandos\n",
    "else:\n",
    "    comandos```\n",
    "    \n",
    "As condições devem ser coercíveis para `bool` para poderem ser executadas.\n",
    "\n",
    "**Atenção! No Python, é necessário que os blocos estejam propriamente indentados, ou o interpretador irá lançar um erro.**"
   ]
  },
  {
   "cell_type": "code",
   "execution_count": 7,
   "metadata": {},
   "outputs": [
    {
     "name": "stdout",
     "output_type": "stream",
     "text": [
      "Verdadeiro\n"
     ]
    }
   ],
   "source": [
    "if True:\n",
    "    print(\"Verdadeiro\")\n",
    "else:\n",
    "    print(\"Absurdo\")"
   ]
  },
  {
   "cell_type": "markdown",
   "metadata": {},
   "source": [
    "### Operadores de comparação\n",
    "\n",
    "Os operadores de comparação permitem verificar igualdades e desigualdades entre valores, sendo possível verificar se tal condição é verdadeira ou falsa. Dentre eles temos:\n",
    "```python\n",
    "igual = x == y\n",
    "diferente = x != y\n",
    "menor = x < y\n",
    "maior = x > y\n",
    "menor_igual = x <= y\n",
    "maior_igual = x >= y```"
   ]
  },
  {
   "cell_type": "markdown",
   "metadata": {},
   "source": [
    "### Operadores lógicos\n",
    "\n",
    "Os operadores lógicos são operadores que recebem `bools` como argumento e retornam um `bool`. Dentre eles podem destacar:\n",
    "```python\n",
    "e_logico = x and y\n",
    "ou_logico = x or y\n",
    "nao_logico = not x```"
   ]
  },
  {
   "cell_type": "markdown",
   "metadata": {},
   "source": [
    "Abaixo temos um exemplo onde verificamos "
   ]
  },
  {
   "cell_type": "code",
   "execution_count": 8,
   "metadata": {},
   "outputs": [
    {
     "name": "stdout",
     "output_type": "stream",
     "text": [
      "10.0 > 8.0\n"
     ]
    }
   ],
   "source": [
    "x = float(input(\"Entre com um valor: \"))\n",
    "y = float(input(\"Entre com outro valor: \"))\n",
    "\n",
    "if x > y:\n",
    "    print(x, \">\", y)\n",
    "elif x == y and x == 42:\n",
    "    print(\"A resposta para a vida, o universo e tudo mais\")\n",
    "elif x < 0 or y < 0:\n",
    "    print(\"Algum valor é negativo\")\n",
    "else:\n",
    "    print(\"Nenhum bloco acima foi executado\")"
   ]
  },
  {
   "cell_type": "markdown",
   "metadata": {},
   "source": [
    "Outra coisa interessante é a capacidade do Python de aninhar operadores de comparação:"
   ]
  },
  {
   "cell_type": "code",
   "execution_count": 9,
   "metadata": {},
   "outputs": [
    {
     "name": "stdout",
     "output_type": "stream",
     "text": [
      "8.0 é maior que 0 e menor ou igual a 10\n"
     ]
    }
   ],
   "source": [
    "x = float(input(\"Entre com um valor:\"))\n",
    "\n",
    "if 0 < x <= 10:\n",
    "    print(x, \"é maior que 0 e menor ou igual a 10\")\n",
    "elif -100 <= x <= 0:\n",
    "    print(x, \"está entre -100 e 0\")\n",
    "else:\n",
    "    print(x, \"é maior que 10 ou menor que -100\")"
   ]
  },
  {
   "cell_type": "markdown",
   "metadata": {},
   "source": [
    "## Listas\n",
    "\n",
    "No Python, podemos criar listas heterogêneas (isto é, listas podem conter qualquer tipo de variável). Por exemplo:"
   ]
  },
  {
   "cell_type": "code",
   "execution_count": 10,
   "metadata": {},
   "outputs": [
    {
     "name": "stdout",
     "output_type": "stream",
     "text": [
      "['Multimídia', 100, True]\n"
     ]
    }
   ],
   "source": [
    "lista1 = [\"Multimídia\", 100, True]\n",
    "print(lista1)"
   ]
  },
  {
   "cell_type": "markdown",
   "metadata": {},
   "source": [
    "### Métodos e funções úteis para listas\n",
    "\n",
    "Para manipular listas, podemos destacar algumas funções e métodos úteis:"
   ]
  },
  {
   "cell_type": "code",
   "execution_count": 11,
   "metadata": {},
   "outputs": [
    {
     "name": "stdout",
     "output_type": "stream",
     "text": [
      "Tamanho da lista: 4\n",
      "Lista com o novo elemento adicionado: [42, 'Python', False, 3.14159, ['Multimídia', 100, True], 1.88]\n",
      "Elemento na posição 0: 42\n",
      "Último elemento: 1.88\n",
      "Penúltimo elemento: ['Multimídia', 100, True]\n",
      "Elemento na posição 2 e 3: [False, 3.14159]\n",
      "Lista invertida: [1.88, ['Multimídia', 100, True], 3.14159, False, 'Python', 42]\n",
      "Lista ordenada crescente: [-20, 3, 4, 8, 10]\n",
      "Lista ordenada decrescente: [10, 8, 4, 3, -20]\n"
     ]
    }
   ],
   "source": [
    "lista2 = [42, \"Python\", 3.14159, lista1]\n",
    "\n",
    "# Tamanho de uma lista:\n",
    "print(\"Tamanho da lista:\", len(lista2))\n",
    "\n",
    "# Adicionar um novo elemento:\n",
    "lista2.append(1.88)\n",
    "lista2.insert(2,False)\n",
    "print(\"Lista com o novo elemento adicionado:\", lista2)\n",
    "\n",
    "# Acessando valores individuais:\n",
    "print(\"Elemento na posição 0:\", lista2[0]) # Pega o elemento na posição 0.\n",
    "print(\"Último elemento:\", lista2[-1]) # Pega o último elemento.\n",
    "print(\"Penúltimo elemento:\", lista2[-2]) # Pega o penúltimo elemento.\n",
    "print(\"Elemento na posição 2 e 3:\", lista2[2:4]) # Pega os elementos 2 e 3. Obs.: Primeiro valor incluso e último excluso.\n",
    "\n",
    "# Reverter lista:\n",
    "lista2.reverse()\n",
    "print(\"Lista invertida:\", lista2)\n",
    "\n",
    "# Ordenação (para listas homogêneas):\n",
    "lista3 = [8, 4, 3, 10, -20]\n",
    "\n",
    "lista3.sort()\n",
    "print(\"Lista ordenada crescente:\", lista3)\n",
    "\n",
    "lista3.sort(reverse=True)\n",
    "print(\"Lista ordenada decrescente:\", lista3)"
   ]
  },
  {
   "cell_type": "markdown",
   "metadata": {},
   "source": [
    "## Estruturas de repetição\n",
    "\n",
    "No Python, temos acesso a duas estruturas de repetição: `while` e `for`.\n",
    "\n",
    "### while\n",
    "\n",
    "Executa comandos dentro do bloco `while` enquanto a condição é verdadeira:"
   ]
  },
  {
   "cell_type": "code",
   "execution_count": 12,
   "metadata": {},
   "outputs": [
    {
     "name": "stdout",
     "output_type": "stream",
     "text": [
      "x = 512\n",
      "x = 256\n",
      "x = 128\n",
      "x = 64\n",
      "x = 32\n",
      "x = 16\n",
      "x = 8\n",
      "x = 4\n",
      "x = 2\n",
      "x = 1\n"
     ]
    }
   ],
   "source": [
    "x = 512\n",
    "\n",
    "while x > 0:\n",
    "    print(\"x =\", x)\n",
    "    x //= 2 # o mesmo que x = x // 2"
   ]
  },
  {
   "cell_type": "markdown",
   "metadata": {},
   "source": [
    "### for\n",
    "\n",
    "Adicionamente, temos o `for`, que permite iterar por valores dentro de uma estrutura:"
   ]
  },
  {
   "cell_type": "code",
   "execution_count": 13,
   "metadata": {},
   "outputs": [
    {
     "name": "stdout",
     "output_type": "stream",
     "text": [
      "42\n",
      "Python\n",
      "3.14159\n"
     ]
    }
   ],
   "source": [
    "lista2 = [42, \"Python\", 3.14159]\n",
    "\n",
    "for valor in lista2:\n",
    "    print(valor)"
   ]
  },
  {
   "cell_type": "code",
   "execution_count": 11,
   "metadata": {},
   "outputs": [
    {
     "name": "stdout",
     "output_type": "stream",
     "text": [
      "[0, 5):\n",
      "0\n",
      "1\n",
      "2\n",
      "3\n",
      "4\n",
      "\n",
      "[2, 8):\n",
      "2\n",
      "3\n",
      "4\n",
      "5\n",
      "6\n",
      "7\n",
      "\n",
      "[4, 9) com passo 2:\n",
      "4\n",
      "6\n",
      "8\n"
     ]
    }
   ],
   "source": [
    "print(\"[0, 5):\")\n",
    "for i in range(5):\n",
    "    print(i)\n",
    "\n",
    "print()\n",
    "    \n",
    "print(\"[2, 8):\")\n",
    "for j in range(2, 8):\n",
    "    print(j)\n",
    "    \n",
    "print()\n",
    "    \n",
    "print(\"[4, 9) com passo 2:\")\n",
    "for k in range(4, 9, 2):\n",
    "    print(k)"
   ]
  },
  {
   "cell_type": "markdown",
   "metadata": {},
   "source": [
    "## Tuplas\n",
    "\n",
    "Tuplas funcionam como listas heterogêneas de tamanho fixo e imutáveis."
   ]
  },
  {
   "cell_type": "code",
   "execution_count": 14,
   "metadata": {},
   "outputs": [
    {
     "name": "stdout",
     "output_type": "stream",
     "text": [
      "Louis XIV\n",
      "Aristóteles Grécia\n"
     ]
    }
   ],
   "source": [
    "louis = (\"Louis XIV\", \"França\")\n",
    "beethoven = (\"Beethoven\", \"Alemanha\")\n",
    "aristoteles = (\"Aristóteles\", \"Grécia\")\n",
    "\n",
    "# Acessando valores:\n",
    "print(louis[0])\n",
    "\n",
    "# Desconstrução de tuplas:\n",
    "(nome1, pais1) = aristoteles\n",
    "print(nome1, pais1)"
   ]
  },
  {
   "cell_type": "markdown",
   "metadata": {},
   "source": [
    "## Funções\n",
    "\n",
    "Funções fornecem uma forma de reutilizar código e deixar ele mais organizado. A sintaxe é como abaixo:\n",
    "```python\n",
    "def nome_funcao(argumento1, argumento2, argumento3=opcional1, argumento4=opcional2):\n",
    "    corpo_funcao\n",
    "    return valor # obs.: return não é obrigatório```\n",
    "\n",
    "Abaixo temos exemplos de funções:"
   ]
  },
  {
   "cell_type": "code",
   "execution_count": 15,
   "metadata": {},
   "outputs": [
    {
     "name": "stdout",
     "output_type": "stream",
     "text": [
      "4\n",
      "8\n"
     ]
    }
   ],
   "source": [
    "# Função com retorno:\n",
    "def soma(x, y=5):\n",
    "    z = x + y\n",
    "    return z\n",
    "\n",
    "print(soma(1, 3))\n",
    "print(soma(3))"
   ]
  },
  {
   "cell_type": "code",
   "execution_count": 14,
   "metadata": {},
   "outputs": [
    {
     "name": "stdout",
     "output_type": "stream",
     "text": [
      "0 é par\n",
      "1 é ímpar\n",
      "2 é par\n",
      "3 é ímpar\n",
      "4 é par\n",
      "5 é ímpar\n",
      "6 é par\n",
      "7 é ímpar\n",
      "8 é par\n",
      "9 é ímpar\n"
     ]
    }
   ],
   "source": [
    "# Função sem retorno:\n",
    "def mostra_paridade(valores):\n",
    "    for valor in valores:\n",
    "        if valor % 2 == 0:\n",
    "            print(valor, \"é par\")\n",
    "        else:\n",
    "            print(valor, \"é ímpar\")\n",
    "            \n",
    "mostra_paridade(range(0, 10))"
   ]
  },
  {
   "cell_type": "markdown",
   "metadata": {},
   "source": [
    "## Funções anônimas\n",
    "\n",
    "Funções anônimas (também chamadas de `lambdas`) são funções que podem ser salvas em variáveis. Exemplo:"
   ]
  },
  {
   "cell_type": "code",
   "execution_count": 9,
   "metadata": {},
   "outputs": [
    {
     "name": "stdout",
     "output_type": "stream",
     "text": [
      "Napoleão tem 250 anos.\n"
     ]
    }
   ],
   "source": [
    "mostra_pessoa = lambda nome, idade: nome + \" tem \" + str(idade) + \" anos.\"\n",
    "\n",
    "print(mostra_pessoa(\"Napoleão\", 250))"
   ]
  },
  {
   "cell_type": "code",
   "execution_count": 18,
   "metadata": {},
   "outputs": [
    {
     "name": "stdout",
     "output_type": "stream",
     "text": [
      "Ordem crescente:  [(-1, 0), (2, 5), (2, -3), (6, 3)]\n",
      "Ordem decrescente:  [(6, 3), (2, 5), (2, -3), (-1, 0)]\n"
     ]
    }
   ],
   "source": [
    "pontos = [(2, 5), (-1, 0), (6, 3), (2, -3)]\n",
    "\n",
    "pontos_crescentes_em_x = sorted(pontos, key=lambda p: p[0])\n",
    "pontos_decrescentes_em_x = sorted(pontos, key=lambda p: p[0], reverse = True)\n",
    "\n",
    "print('Ordem crescente: ', pontos_crescentes_em_x)\n",
    "print('Ordem decrescente: ',pontos_decrescentes_em_x)"
   ]
  },
  {
   "cell_type": "code",
   "execution_count": 41,
   "metadata": {},
   "outputs": [
    {
     "data": {
      "text/plain": [
       "[(-1, 0), (2, 5), (2, -3), (6, 3)]"
      ]
     },
     "execution_count": 41,
     "metadata": {},
     "output_type": "execute_result"
    }
   ],
   "source": [
    "from operator import itemgetter\n",
    "\n",
    "sorted(pontos, key=itemgetter(0))"
   ]
  },
  {
   "cell_type": "markdown",
   "metadata": {},
   "source": [
    "## Arrays do NumPy\n",
    "Embora as listas do Python sejam úteis para o desenvolvimento no dia-a-dia, daremos preferência aos arrays do NumPy, por serem mais eficientes e oferecerem mais operações úteis relacionadas à manipulação de vetores e matrizes algébricas."
   ]
  },
  {
   "cell_type": "markdown",
   "metadata": {},
   "source": [
    "O primeiro passo é importar o NumPy:"
   ]
  },
  {
   "cell_type": "code",
   "execution_count": 16,
   "metadata": {},
   "outputs": [],
   "source": [
    "import numpy as np\n",
    "# obs.: também poderíamos importar tudo do módulo:\n",
    "# from numpy import *"
   ]
  },
  {
   "cell_type": "markdown",
   "metadata": {},
   "source": [
    "### Vetores"
   ]
  },
  {
   "cell_type": "code",
   "execution_count": 39,
   "metadata": {},
   "outputs": [
    {
     "name": "stdout",
     "output_type": "stream",
     "text": [
      "Vetor: [ 2  3  5  7 11] \n",
      "Dimensão: (5,)\n"
     ]
    }
   ],
   "source": [
    "# Criação de vetores:\n",
    "vetor = np.array([2, 3, 5, 7, 11])\n",
    "\n",
    "#ou\n",
    "\n",
    "# Shape mostra as dimensões do array:\n",
    "print(\"Vetor:\", vetor, \"\\nDimensão:\", vetor.shape)"
   ]
  },
  {
   "cell_type": "code",
   "execution_count": 19,
   "metadata": {},
   "outputs": [
    {
     "name": "stdout",
     "output_type": "stream",
     "text": [
      "Vetor: [1.    0.1   0.01  0.001]    Dimensão: (4,)    Tipo: float64\n",
      "\n",
      "Vetor: [1 1 2 3 5 8]                Dimensão: (6,)    Tipo: uint8\n"
     ]
    }
   ],
   "source": [
    "# Também podemos especificar o tipo das variáveis dentro do array:\n",
    "vetor_float = np.array([1, 0.1, 0.01, 0.001])\n",
    "print(\"Vetor:\", vetor_float, \"   Dimensão:\", vetor_float.shape, \"   Tipo:\", vetor_float.dtype)\n",
    "\n",
    "print()\n",
    "\n",
    "vetor_int = np.array([1, 1, 2, 3, 5, 8], np.uint8)\n",
    "print(\"Vetor:\", vetor_int, \"               Dimensão:\", vetor_int.shape, \"   Tipo:\", vetor_int.dtype)\n",
    "\n",
    "# Para mais informações: https://docs.scipy.org/doc/numpy/reference/arrays.dtypes.html"
   ]
  },
  {
   "cell_type": "markdown",
   "metadata": {},
   "source": [
    "### Matrizes"
   ]
  },
  {
   "cell_type": "code",
   "execution_count": 43,
   "metadata": {},
   "outputs": [
    {
     "name": "stdout",
     "output_type": "stream",
     "text": [
      "Matriz:\n",
      " [[1 2 3]\n",
      " [4 5 6]\n",
      " [7 8 9]] \n",
      "\n",
      "Dimensão: (3, 3)\n",
      "\n",
      "Matriz_2:\n",
      " [[1 2 3]\n",
      " [4 5 6]\n",
      " [7 8 9]] \n",
      "\n",
      "Dimensão: (3, 3)\n"
     ]
    }
   ],
   "source": [
    "# Criação de matrizes:\n",
    "matriz = np.array([[1, 2, 3],\n",
    "                   [4, 5, 6],\n",
    "                   [7, 8, 9]])\n",
    "\n",
    "#ou\n",
    "\n",
    "matriz_2 = np.array([[1, 2, 3], [4, 5, 6], [7, 8, 9]])\n",
    "\n",
    "print(\"Matriz:\\n\", matriz, \"\\n\\nDimensão:\", matriz.shape)\n",
    "print()\n",
    "print(\"Matriz_2:\\n\", matriz2, \"\\n\\nDimensão:\", matriz_2.shape)"
   ]
  },
  {
   "cell_type": "markdown",
   "metadata": {},
   "source": [
    "### Funções e operações relevantes"
   ]
  },
  {
   "cell_type": "markdown",
   "metadata": {},
   "source": [
    "#### Criação de arrays:"
   ]
  },
  {
   "cell_type": "code",
   "execution_count": 49,
   "metadata": {
    "scrolled": false
   },
   "outputs": [
    {
     "name": "stdout",
     "output_type": "stream",
     "text": [
      "Array tamanho 2x4 preenchido com 1:\n",
      "[[1. 1. 1. 1.]\n",
      " [1. 1. 1. 1.]]\n",
      "\n",
      "Array tamanho 2x4x3 preenchido com 0:\n",
      "[[[0. 0. 0. 0.]\n",
      "  [0. 0. 0. 0.]]\n",
      "\n",
      " [[0. 0. 0. 0.]\n",
      "  [0. 0. 0. 0.]]\n",
      "\n",
      " [[0. 0. 0. 0.]\n",
      "  [0. 0. 0. 0.]]]\n",
      "\n",
      "Array 3x4 com valores aleatórios em [0, 10):\n",
      "[[6 3 7 4]\n",
      " [6 9 2 6]\n",
      " [7 4 3 7]]\n",
      "\n",
      "Array com valores em [0, 1) e passo 0.1:\n",
      "[0.  0.1 0.2 0.3 0.4 0.5 0.6 0.7 0.8 0.9]\n"
     ]
    }
   ],
   "source": [
    "print('Array tamanho 2x4 preenchido com 1:')\n",
    "print(np.ones((2, 4)))\n",
    "\n",
    "print('\\nArray tamanho 2x4x3 preenchido com 0:')\n",
    "print(np.zeros((3, 2, 4))) # Ordem invertida: [página, linha, coluna].\n",
    "\n",
    "print('\\nArray 3x4 com valores aleatórios em [0, 10):')\n",
    "np.random.seed(42) # Opcional.\n",
    "print(np.random.randint(10, size=(3, 4)))\n",
    "\n",
    "print('\\nArray com valores em [0, 1) e passo 0.1:')\n",
    "print(np.arange(0, 1, 0.1))\n"
   ]
  },
  {
   "cell_type": "markdown",
   "metadata": {},
   "source": [
    "#### Transposta e concatenação:"
   ]
  },
  {
   "cell_type": "code",
   "execution_count": 22,
   "metadata": {},
   "outputs": [
    {
     "name": "stdout",
     "output_type": "stream",
     "text": [
      "Matriz 2x3:\n",
      "[[0 1 2]\n",
      " [3 4 5]]\n",
      "\n",
      "Transposta:\n",
      "[[0 3]\n",
      " [1 4]\n",
      " [2 5]]\n",
      "\n",
      "Matriz 2x2:\n",
      "[[6 7]\n",
      " [8 9]]\n",
      "\n",
      "Matriz 3x3:\n",
      "[[ 6  7  8]\n",
      " [ 9 10 11]\n",
      " [12 13 14]]\n",
      "\n",
      "Matriz 2x3 e Matriz 3x3 - Concatenação no eixo das linhas (eixo 0):\n",
      "[[ 0  1  2]\n",
      " [ 3  4  5]\n",
      " [ 6  7  8]\n",
      " [ 9 10 11]\n",
      " [12 13 14]]\n",
      "\n",
      "Matriz 2x3 e Matriz 2x2 - Concatenação no eixo das colunas (eixo 1):\n",
      "[[0 1 2 6 7]\n",
      " [3 4 5 8 9]]\n"
     ]
    }
   ],
   "source": [
    "matriz_2x3 = np.array([[0, 1, 2], [3, 4, 5]])\n",
    "print('Matriz 2x3:')\n",
    "print(matriz_2x3)\n",
    "\n",
    "print('\\nTransposta:')\n",
    "print(matriz_2x3.T)\n",
    "\n",
    "matriz_2x2 = np.array([[6, 7], [8, 9]])\n",
    "print('\\nMatriz 2x2:')\n",
    "print(matriz_2x2)\n",
    "\n",
    "matriz_3x3 = np.array([[6, 7, 8], [9, 10, 11], [12, 13, 14]])\n",
    "print('\\nMatriz 3x3:')\n",
    "print(matriz_3x3)\n",
    "\n",
    "print('\\nMatriz 2x3 e Matriz 3x3 - Concatenação no eixo das linhas (eixo 0):')\n",
    "print(np.concatenate([matriz_2x3, matriz_3x3], axis=0))\n",
    "\n",
    "print('\\nMatriz 2x3 e Matriz 2x2 - Concatenação no eixo das colunas (eixo 1):')\n",
    "print(np.concatenate([matriz_2x3, matriz_2x2], axis=1))"
   ]
  },
  {
   "cell_type": "markdown",
   "metadata": {},
   "source": [
    "#### Indexação:\n",
    "\n",
    "A indexação funciona da mesma forma que listas normais do Python:"
   ]
  },
  {
   "cell_type": "code",
   "execution_count": 55,
   "metadata": {
    "scrolled": true
   },
   "outputs": [
    {
     "name": "stdout",
     "output_type": "stream",
     "text": [
      "Linha de índice 0: [0 1 2]\n",
      "Linha 2 e coluna 1: 7\n",
      "Todas linhas e coluna 1: [ 1  4  7 10]\n",
      "Linhas [1, 3) e colunas >= 1:\n",
      " [[4 5]\n",
      " [7 8]]\n",
      "uint8\n"
     ]
    }
   ],
   "source": [
    "# Elementos individuais:\n",
    "matriz_4x3 = np.array([[0,  1,  2],\n",
    "                       [3,  4,  5],\n",
    "                       [6,  7,  8],\n",
    "                       [9, 10, 11]])\n",
    "\n",
    "print(\"Linha de índice 0:\", matriz_4x3[0]) # linha de índice 0\n",
    "print(\"Linha 2 e coluna 1:\", matriz_4x3[2, 1]) # linha de índice 2 ([6, 7, 8]) e coluna de índice 1\n",
    "print(\"Todas linhas e coluna 1:\", matriz_4x3[:, 1]) # todas as linhas e coluna de índice 1\n",
    "print(\"Linhas [1, 3) e colunas >= 1:\\n\", matriz_4x3[1:3, 1:]) # linhas [1, 3), todas as colunas a partir de 1\n",
    "print(matriz_4x3.dtype)"
   ]
  },
  {
   "cell_type": "markdown",
   "metadata": {},
   "source": [
    "#### Operações:"
   ]
  },
  {
   "cell_type": "code",
   "execution_count": 17,
   "metadata": {},
   "outputs": [
    {
     "name": "stdout",
     "output_type": "stream",
     "text": [
      "Multiplicação com escalar:\n",
      "[[2. 2. 2.]\n",
      " [2. 2. 2.]]\n",
      "\n",
      "Soma com escalar:\n",
      "[3. 3. 3. 3. 3. 3.]\n",
      "\n",
      "Soma ponto-a-ponto:\n",
      "[[11. 11.]\n",
      " [11. 11.]]\n",
      "\n",
      "Multiplicação ponto-a-ponto:\n",
      "[10. 10. 10. 10.]\n",
      "\n",
      "Multiplicação matricial:\n",
      "[[19 22]\n",
      " [43 50]]\n",
      "\n",
      "Produto escalar:\n",
      "2\n"
     ]
    }
   ],
   "source": [
    "print('Multiplicação com escalar:')\n",
    "print(np.ones((2, 3)) * 2)\n",
    "\n",
    "print('\\nSoma com escalar:')\n",
    "print(np.zeros(6) + 3)\n",
    "\n",
    "print('\\nSoma ponto-a-ponto:')\n",
    "# Equivalente a [[1, 1], [1, 1]] + [[10, 10], [10, 10]]:\n",
    "print(np.ones((2, 2)) + 10 * np.ones((2, 2)))\n",
    "\n",
    "print('\\nMultiplicação ponto-a-ponto:')\n",
    "# Equivalente a [2, 2, 2, 2] * [5, 5, 5, 5]:\n",
    "print((2 * np.ones(4)) * (5 * np.ones(4)))\n",
    "\n",
    "print('\\nMultiplicação matricial:')\n",
    "print(\n",
    "    np.matmul(\n",
    "        np.array([[1, 2],\n",
    "                  [3, 4]]),\n",
    "        np.array([[5, 6],\n",
    "                  [7, 8]])))\n",
    "\n",
    "print('\\nProduto escalar:')\n",
    "#Equivalente a 1 * (-1) + 2 * 0 + 3 * 1:\n",
    "print(np.dot(np.array([1, 2, 3]), np.array([-1, 0, 1])))"
   ]
  },
  {
   "cell_type": "markdown",
   "metadata": {},
   "source": [
    "# Exercícios"
   ]
  },
  {
   "cell_type": "markdown",
   "metadata": {},
   "source": [
    "1. Crie dois arrays 8x8x3, com valores aleatórios do tipo np.uint8 no intervalo de 0 a 10 (inclusive). Chame as variáveis de `a` e `b`."
   ]
  },
  {
   "cell_type": "code",
   "execution_count": 22,
   "metadata": {},
   "outputs": [
    {
     "name": "stdout",
     "output_type": "stream",
     "text": [
      "matriz A\n",
      "[[[ 5  1  7  7  7  3  8  8]\n",
      "  [ 8  1  0  7  2  4  3  0]\n",
      "  [ 1  2  1  5  6  9 10 10]\n",
      "  [ 2  8  2  2  5  4  3  8]\n",
      "  [ 1  9  9  2  8  2  5  7]\n",
      "  [10 10  2  2  9  8  2  9]\n",
      "  [ 3  4  7  6  4  0  2  6]\n",
      "  [ 7  9  1  5  9  1  9  8]]\n",
      "\n",
      " [[ 8  5  1 10  0  8  1  7]\n",
      "  [ 4  2  8  3  2  1  8  4]\n",
      "  [ 3  5  7  5  7  5  7  9]\n",
      "  [ 5  9  2  1  2  7  6  2]\n",
      "  [ 0  6 10  1  8  8  6  3]\n",
      "  [ 5  6  1  9  3  9 10  2]\n",
      "  [ 5 10  2  6  6 10  7  5]\n",
      "  [ 6  0  8  2  9  7  2  7]]\n",
      "\n",
      " [[10  7  8  9  6  1  0  0]\n",
      "  [ 3  9  6  0  5  2  7  8]\n",
      "  [ 1  7  3  3  5  6  6  1]\n",
      "  [ 5  9  6 10  1  5 10  4]\n",
      "  [10  8 10  4  6  9  1  7]\n",
      "  [ 8 10  1  5  0  8  5  9]\n",
      "  [ 0  0 10  1  1  1  6  6]\n",
      "  [ 5  4  7  2  7  4  9  4]]]\n",
      "matriz B\n",
      "[[[ 0  4  8  2  9  3  9  9]\n",
      "  [ 5  5  0  4  6  8  7  4]\n",
      "  [ 3  6  9  8  7 10  3  3]\n",
      "  [10 10  0  4  8  8 10 10]\n",
      "  [ 2  1  0  2  5  9  1  3]\n",
      "  [ 5  7 10  3  1  6  3  4]\n",
      "  [ 8  5 10  8  2  7  7  8]\n",
      "  [ 2  8  9  0  3 10  4  7]]\n",
      "\n",
      " [[ 1  9  7  2  4  3  4  9]\n",
      "  [ 0  0  1  2 10  1  9  8]\n",
      "  [ 1  5  0 10  7  3  2  6]\n",
      "  [ 2  6  8  9  3  5  3  4]\n",
      "  [ 4  5  8  7  2  7  7 10]\n",
      "  [ 1  7  5  3  9  6  9  2]\n",
      "  [ 8 10  0  0  8 10  1  0]\n",
      "  [ 5  7  5 10  3  9  2  7]]\n",
      "\n",
      " [[ 4  9  9  3  6  8  4  7]\n",
      "  [10  1  5  8  3  8  9  5]\n",
      "  [ 2  2  1  4  2  5  0  2]\n",
      "  [ 5  5  7 10 10  5  1  4]\n",
      "  [ 0  5 10  6  6  0  9  3]\n",
      "  [ 7  0  1  9  2  1  3  1]\n",
      "  [ 5  8 10  1  6  3  5  1]\n",
      "  [ 8  1  9  7  2  3  4  1]]]\n"
     ]
    }
   ],
   "source": [
    "# Dica: https://docs.scipy.org/doc/numpy-1.15.1/reference/generated/numpy.random.randint.html\n",
    "# Dica 2: Utilize size=(3, 8, 8).\n",
    "\n",
    "\n",
    "\n",
    "a = np.random.randint(0,11,(3,8,8), dtype=np.uint8)\n",
    "b= np.random.randint(0,11,(3,8,8), dtype=np.uint8)\n",
    "\n",
    "print(\"matriz A\")\n",
    "print(a)\n",
    "\n",
    "print(\"matriz B\")\n",
    "print(b)\n"
   ]
  },
  {
   "cell_type": "markdown",
   "metadata": {},
   "source": [
    "2. Crie uma nova matriz `c`, cujos valores são as médias aritméticas dos valores (ponto-a-ponto) das matrizes criadas no exercício 1."
   ]
  },
  {
   "cell_type": "code",
   "execution_count": 23,
   "metadata": {},
   "outputs": [
    {
     "name": "stdout",
     "output_type": "stream",
     "text": [
      "[[[ 2  2  7  4  8  3  8  8]\n",
      "  [ 6  3  0  5  4  6  5  2]\n",
      "  [ 2  4  5  6  6  9  6  6]\n",
      "  [ 6  9  1  3  6  6  6  9]\n",
      "  [ 1  5  4  2  6  5  3  5]\n",
      "  [ 7  8  6  2  5  7  2  6]\n",
      "  [ 5  4  8  7  3  3  4  7]\n",
      "  [ 4  8  5  2  6  5  6  7]]\n",
      "\n",
      " [[ 4  7  4  6  2  5  2  8]\n",
      "  [ 2  1  4  2  6  1  8  6]\n",
      "  [ 2  5  3  7  7  4  4  7]\n",
      "  [ 3  7  5  5  2  6  4  3]\n",
      "  [ 2  5  9  4  5  7  6  6]\n",
      "  [ 3  6  3  6  6  7  9  2]\n",
      "  [ 6 10  1  3  7 10  4  2]\n",
      "  [ 5  3  6  6  6  8  2  7]]\n",
      "\n",
      " [[ 7  8  8  6  6  4  2  3]\n",
      "  [ 6  5  5  4  4  5  8  6]\n",
      "  [ 1  4  2  3  3  5  3  1]\n",
      "  [ 5  7  6 10  5  5  5  4]\n",
      "  [ 5  6 10  5  6  4  5  5]\n",
      "  [ 7  5  1  7  1  4  4  5]\n",
      "  [ 2  4 10  1  3  2  5  3]\n",
      "  [ 6  2  8  4  4  3  6  2]]]\n"
     ]
    }
   ],
   "source": [
    "\n",
    "# 2. Criação da matriz 'c' contendo as médias aritméticas (ponto-a-ponto)\n",
    "c = ((a + b) / 2).astype(np.uint8)\n",
    "print(c)"
   ]
  },
  {
   "cell_type": "markdown",
   "metadata": {},
   "source": [
    "3. Concatene as matrizes `a`, `b` e `c` horizontalmente, e depois guarde a subarray composta pelas linhas 1 a 7 (inclusive), colunas 0 a 3 (inclusive) e página 1."
   ]
  },
  {
   "cell_type": "code",
   "execution_count": 25,
   "metadata": {},
   "outputs": [
    {
     "name": "stdout",
     "output_type": "stream",
     "text": [
      "[[5 2 5 9]\n",
      " [7 9 7 9]]\n"
     ]
    }
   ],
   "source": [
    "# Dica: Ordem de acesso: [página (eixo 0), linha (eixo 1), coluna (eixo 2)].\n",
    "concat_array = np.concatenate((a, b, c), axis=1)\n",
    "subarray = concat_array[1:8, 0:4, 1]\n",
    "\n",
    "print(subarray)"
   ]
  },
  {
   "cell_type": "markdown",
   "metadata": {},
   "source": [
    "4. Multiplique a página 0 da matriz `a` com a página 1 da matriz `b` (faça multiplicação matricial)."
   ]
  },
  {
   "cell_type": "code",
   "execution_count": 31,
   "metadata": {},
   "outputs": [
    {
     "name": "stdout",
     "output_type": "stream",
     "text": [
      "[[20 40  6 20  1 70 15 56]\n",
      " [72  0 15 30  0 35 50 42]\n",
      " [90  3  2 25 50  0  0  5]]\n"
     ]
    }
   ],
   "source": [
    "element_wise_multiplication = a[:, :, 0] * b[:, :, 1]\n",
    "print(element_wise_multiplication)"
   ]
  },
  {
   "cell_type": "markdown",
   "metadata": {},
   "source": [
    "5. Crie uma função que receba um array bidimensional e retorne uma tupla `(m, p)`, onde `m` é o maior valor e `p` é a posição `(x, y)` no array onde se encontra `m`. Faça uso do `while` ou do `for` vistos acima. Caso tenha mais de uma posição com valor máximo, utilize a posição mais antiga."
   ]
  },
  {
   "cell_type": "code",
   "execution_count": 35,
   "metadata": {},
   "outputs": [
    {
     "name": "stdout",
     "output_type": "stream",
     "text": [
      "(90, (2, 0))\n"
     ]
    }
   ],
   "source": [
    "# Dica: Infinito no numpy = np.inf\n",
    "def find_max_and_position(arr):\n",
    "    max_value = arr[0, 0]\n",
    "    max_pos = (0, 0)\n",
    "    for i in range(arr.shape[0]):\n",
    "        for j in range(arr.shape[1]):\n",
    "            if arr[i, j] > max_value:\n",
    "                max_value = arr[i, j]\n",
    "                max_pos = (i, j)\n",
    "    return max_value, max_pos\n",
    "result_loop = find_max_and_position(element_wise_multiplication)\n",
    "print(result_loop)"
   ]
  },
  {
   "cell_type": "markdown",
   "metadata": {},
   "source": [
    "6. Pesquise sobre as funções `max`, `unravel_index` e `argmax` do NumPy e refaça o exercício 5 sem utilizar estrutura de repetição."
   ]
  },
  {
   "cell_type": "code",
   "execution_count": 67,
   "metadata": {},
   "outputs": [],
   "source": [
    "# https://docs.scipy.org/doc/numpy/reference/generated/numpy.argmax.html?highlight=argmax#numpy.argmax\n",
    "# https://docs.scipy.org/doc/numpy/reference/generated/numpy.unravel_index.html#numpy.unravel_index"
   ]
  },
  {
   "cell_type": "code",
   "execution_count": 34,
   "metadata": {},
   "outputs": [
    {
     "name": "stdout",
     "output_type": "stream",
     "text": [
      "(90, (2, 0))\n"
     ]
    }
   ],
   "source": [
    "def find_max_and_position_numpy(arr):\n",
    "    max_value = np.max(arr)\n",
    "    max_pos = np.unravel_index(np.argmax(arr), arr.shape)\n",
    "    return max_value, max_pos\n",
    "\n",
    "result_numpy = find_max_and_position_numpy(element_wise_multiplication)\n",
    "print(result_numpy)\n"
   ]
  }
 ],
 "metadata": {
  "kernelspec": {
   "display_name": "Python 3 (ipykernel)",
   "language": "python",
   "name": "python3"
  },
  "language_info": {
   "codemirror_mode": {
    "name": "ipython",
    "version": 3
   },
   "file_extension": ".py",
   "mimetype": "text/x-python",
   "name": "python",
   "nbconvert_exporter": "python",
   "pygments_lexer": "ipython3",
   "version": "3.11.3"
  }
 },
 "nbformat": 4,
 "nbformat_minor": 2
}
